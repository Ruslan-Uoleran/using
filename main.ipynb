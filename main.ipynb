{
 "cells": [
  {
   "cell_type": "code",
   "execution_count": 2,
   "source": [
    "import numpy as np\r\n",
    "import pandas as pd"
   ],
   "outputs": [],
   "metadata": {}
  },
  {
   "cell_type": "code",
   "execution_count": null,
   "source": [
    "import numpy as np\r\n",
    "import pandas as pd\r\n",
    "import matplotlib as mlt\r\n",
    "import seaborn as sns\r\n"
   ],
   "outputs": [],
   "metadata": {}
  },
  {
   "cell_type": "code",
   "execution_count": null,
   "source": [
    "data = pd.read_csv('file.csv', sep = ',')\r\n",
    "data['Dates'] = data['Dates'].astype('datetime64')\r\n",
    "data.columns = (['Date','CM','DSI','CM_top','CM_bottom','Vol_pos','Vol_neg','Opt_vol','Price'])\r\n",
    "data.head()"
   ],
   "outputs": [
    {
     "data": {
      "text/html": [
       "<div>\n",
       "<style scoped>\n",
       "    .dataframe tbody tr th:only-of-type {\n",
       "        vertical-align: middle;\n",
       "    }\n",
       "\n",
       "    .dataframe tbody tr th {\n",
       "        vertical-align: top;\n",
       "    }\n",
       "\n",
       "    .dataframe thead th {\n",
       "        text-align: right;\n",
       "    }\n",
       "</style>\n",
       "<table border=\"1\" class=\"dataframe\">\n",
       "  <thead>\n",
       "    <tr style=\"text-align: right;\">\n",
       "      <th></th>\n",
       "      <th>Date</th>\n",
       "      <th>CM</th>\n",
       "      <th>DSI</th>\n",
       "      <th>CM_top</th>\n",
       "      <th>CM_bottom</th>\n",
       "      <th>Vol_pos</th>\n",
       "      <th>Vol_neg</th>\n",
       "      <th>Opt_vol</th>\n",
       "      <th>Price</th>\n",
       "    </tr>\n",
       "  </thead>\n",
       "  <tbody>\n",
       "    <tr>\n",
       "      <th>0</th>\n",
       "      <td>2021-04-01</td>\n",
       "      <td>267.569262</td>\n",
       "      <td>39.503498</td>\n",
       "      <td>249.455179</td>\n",
       "      <td>203.658869</td>\n",
       "      <td>1.038873e+07</td>\n",
       "      <td>-5.867719e+06</td>\n",
       "      <td>1.692419e+07</td>\n",
       "      <td>252.960007</td>\n",
       "    </tr>\n",
       "    <tr>\n",
       "      <th>1</th>\n",
       "      <td>2021-04-05</td>\n",
       "      <td>266.446103</td>\n",
       "      <td>43.547849</td>\n",
       "      <td>249.455179</td>\n",
       "      <td>203.658869</td>\n",
       "      <td>1.038873e+07</td>\n",
       "      <td>-5.867719e+06</td>\n",
       "      <td>1.745595e+07</td>\n",
       "      <td>259.359985</td>\n",
       "    </tr>\n",
       "    <tr>\n",
       "      <th>2</th>\n",
       "      <td>2021-04-06</td>\n",
       "      <td>266.097440</td>\n",
       "      <td>59.864450</td>\n",
       "      <td>271.936465</td>\n",
       "      <td>213.215830</td>\n",
       "      <td>1.671536e+07</td>\n",
       "      <td>-1.343049e+06</td>\n",
       "      <td>2.350778e+07</td>\n",
       "      <td>255.169998</td>\n",
       "    </tr>\n",
       "    <tr>\n",
       "      <th>3</th>\n",
       "      <td>2021-04-07</td>\n",
       "      <td>265.693929</td>\n",
       "      <td>60.485745</td>\n",
       "      <td>270.586292</td>\n",
       "      <td>214.080616</td>\n",
       "      <td>1.713731e+07</td>\n",
       "      <td>-1.354932e+06</td>\n",
       "      <td>2.321486e+07</td>\n",
       "      <td>252.580002</td>\n",
       "    </tr>\n",
       "    <tr>\n",
       "      <th>4</th>\n",
       "      <td>2021-04-08</td>\n",
       "      <td>262.822885</td>\n",
       "      <td>58.596604</td>\n",
       "      <td>269.124498</td>\n",
       "      <td>215.351014</td>\n",
       "      <td>2.174643e+07</td>\n",
       "      <td>-1.297189e+06</td>\n",
       "      <td>2.108926e+07</td>\n",
       "      <td>254.949997</td>\n",
       "    </tr>\n",
       "  </tbody>\n",
       "</table>\n",
       "</div>"
      ],
      "text/plain": [
       "        Date          CM        DSI      CM_top   CM_bottom       Vol_pos  \\\n",
       "0 2021-04-01  267.569262  39.503498  249.455179  203.658869  1.038873e+07   \n",
       "1 2021-04-05  266.446103  43.547849  249.455179  203.658869  1.038873e+07   \n",
       "2 2021-04-06  266.097440  59.864450  271.936465  213.215830  1.671536e+07   \n",
       "3 2021-04-07  265.693929  60.485745  270.586292  214.080616  1.713731e+07   \n",
       "4 2021-04-08  262.822885  58.596604  269.124498  215.351014  2.174643e+07   \n",
       "\n",
       "        Vol_neg       Opt_vol       Price  \n",
       "0 -5.867719e+06  1.692419e+07  252.960007  \n",
       "1 -5.867719e+06  1.745595e+07  259.359985  \n",
       "2 -1.343049e+06  2.350778e+07  255.169998  \n",
       "3 -1.354932e+06  2.321486e+07  252.580002  \n",
       "4 -1.297189e+06  2.108926e+07  254.949997  "
      ]
     },
     "metadata": {},
     "output_type": "display_data"
    }
   ],
   "metadata": {}
  },
  {
   "cell_type": "code",
   "execution_count": null,
   "source": [
    "mask = np.triu(np.ones_like(data.corr(), dtype=np.bool))\r\n",
    "sns.heatmap(data.corr(),annot=True, mask = mask, annot_kws={'size':6})"
   ],
   "outputs": [
    {
     "output_type": "stream",
     "name": "stderr",
     "text": [
      "C:\\Users\\QWERTY\\AppData\\Local\\Temp\\ipykernel_14508\\3653473112.py:1: DeprecationWarning: `np.bool` is a deprecated alias for the builtin `bool`. To silence this warning, use `bool` by itself. Doing this will not modify any behavior and is safe. If you specifically wanted the numpy scalar type, use `np.bool_` here.\n",
      "Deprecated in NumPy 1.20; for more details and guidance: https://numpy.org/devdocs/release/1.20.0-notes.html#deprecations\n",
      "  mask = np.triu(np.ones_like(data.corr(), dtype=np.bool))\n"
     ]
    },
    {
     "data": {
      "text/plain": [
       "<AxesSubplot:>"
      ]
     },
     "metadata": {},
     "output_type": "display_data"
    },
    {
     "data": {
      "image/png": "[encoded data removed]",
      "text/plain": [
       "<Figure size 432x288 with 2 Axes>"
      ]
     },
     "metadata": {},
     "output_type": "display_data"
    }
   ],
   "metadata": {}
  },
  {
   "cell_type": "code",
   "execution_count": null,
   "source": [
    "data = pd.read_csv('file.csv', sep = ',')"
   ],
   "outputs": [],
   "metadata": {}
  }
 ],
 "metadata": {
  "orig_nbformat": 4,
  "language_info": {
   "name": "python",
   "version": "3.10.2",
   "mimetype": "text/x-python",
   "codemirror_mode": {
    "name": "ipython",
    "version": 3
   },
   "pygments_lexer": "ipython3",
   "nbconvert_exporter": "python",
   "file_extension": ".py"
  },
  "kernelspec": {
   "name": "python3",
   "display_name": "Python 3.10.2 64-bit"
  },
  "interpreter": {
   "hash": "ef62f4f7a70ee095deec90bab9453fbdefdac47b413c50c4b73e3978a9c5a014"
  }
 },
 "nbformat": 4,
 "nbformat_minor": 2
}